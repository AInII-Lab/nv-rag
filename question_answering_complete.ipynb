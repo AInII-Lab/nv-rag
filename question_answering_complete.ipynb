{
 "cells": [
  {
   "cell_type": "markdown",
   "id": "3aee208d",
   "metadata": {},
   "source": [
    "## Setup"
   ]
  },
  {
   "cell_type": "code",
   "execution_count": null,
   "id": "e7a813d6",
   "metadata": {},
   "outputs": [],
   "source": [
    "from tqdm import tqdm\n",
    "import pandas as pd\n",
    "\n",
    "import os \n",
    "\n",
    "from dotenv import load_dotenv\n",
    "\n",
    "load_dotenv()\n",
    "\n",
    "from llama_index.core import Settings, load_index_from_storage, StorageContext \n",
    "\n",
    "from llama_index.embeddings.openai import OpenAIEmbedding\n",
    "\n",
    "from llama_index.llms.openai import OpenAI\n",
    "from llama_index.core.llms import ChatMessage"
   ]
  },
  {
   "cell_type": "code",
   "execution_count": null,
   "id": "a4e5be17",
   "metadata": {},
   "outputs": [],
   "source": [
    "storage_context = StorageContext.from_defaults(persist_dir=\"./data/indices\")\n",
    "# load index\n",
    "vsi = load_index_from_storage(storage_context, index_id=\"openai_large_1224\")"
   ]
  },
  {
   "cell_type": "code",
   "execution_count": null,
   "id": "6b477851",
   "metadata": {},
   "outputs": [],
   "source": [
    "Settings.embed_model = OpenAIEmbedding(model=\"text-embedding-3-large\")"
   ]
  },
  {
   "cell_type": "code",
   "execution_count": null,
   "id": "3f38bb00",
   "metadata": {},
   "outputs": [],
   "source": [
    "retr = vsi.as_retriever()"
   ]
  },
  {
   "cell_type": "code",
   "execution_count": null,
   "id": "29a6dc3a",
   "metadata": {},
   "outputs": [],
   "source": [
    "# load questions from txt file (the txt file one question per line)\n",
    "STROKE_FRAGEN_PATH = 'xxx'\n",
    "CAROTIS_FRAGEN_PATH = 'xxx'\n",
    "\n",
    "with open(STROKE_FRAGEN_PATH, 'r') as file:\n",
    "    stroke_fragen = file.readlines()\n",
    "    \n",
    "stroke_fragen = [f.strip() for f in stroke_fragen]\n",
    "\n",
    "with open(CAROTIS_FRAGEN_PATH, 'r') as file: \n",
    "    carotis_fragen = file.readlines()\n",
    "    \n",
    "carotis_fragen = [f.strip() for f in carotis_fragen]\n",
    "\n",
    "fragen = stroke_fragen + carotis_fragen"
   ]
  },
  {
   "cell_type": "code",
   "execution_count": null,
   "id": "995882fb",
   "metadata": {},
   "outputs": [],
   "source": [
    "def evaluate_questions(questions: list[str], model):\n",
    "    query_engine = vsi.as_query_engine(llm=model, embed_model=OpenAIEmbedding(model=\"text-embedding-3-large\"))\n",
    "    results = [query_engine.query(q).response for q in tqdm(questions)]\n",
    "    return results"
   ]
  },
  {
   "cell_type": "code",
   "execution_count": null,
   "id": "498c6cfb",
   "metadata": {},
   "outputs": [],
   "source": [
    "df = pd.DataFrame()\n",
    "df[\"frage\"] = fragen"
   ]
  },
  {
   "cell_type": "markdown",
   "id": "dfcbf1ae",
   "metadata": {},
   "source": [
    "## GPT 4o mini (no RAG)"
   ]
  },
  {
   "cell_type": "code",
   "execution_count": null,
   "id": "6a178783",
   "metadata": {},
   "outputs": [],
   "source": [
    "llm = OpenAI(model=\"gpt-4o-mini\", temperature=0)"
   ]
  },
  {
   "cell_type": "code",
   "execution_count": null,
   "id": "c8f28615",
   "metadata": {},
   "outputs": [],
   "source": [
    "results = []\n",
    "\n",
    "for f in tqdm(fragen):\n",
    "    messages = [\n",
    "        ChatMessage(role=\"user\", content=f),\n",
    "    ]\n",
    "\n",
    "    response = llm.chat(messages)\n",
    "    answer = response.message.content\n",
    "    results.append(answer)\n",
    "    \n",
    "df[\"gpt-4o-mini-no-rag\"] = results"
   ]
  },
  {
   "cell_type": "markdown",
   "id": "15ba0e7b",
   "metadata": {},
   "source": [
    "## GPT 4o mini (RAG)"
   ]
  },
  {
   "cell_type": "code",
   "execution_count": null,
   "id": "64c35d9c",
   "metadata": {},
   "outputs": [],
   "source": [
    "llm = OpenAI(model=\"gpt-4o-mini\", temperature=0)\n",
    "\n",
    "results = evaluate_questions(fragen, llm)\n",
    "\n",
    "df[\"gpt-4o-mini\"] = results"
   ]
  },
  {
   "cell_type": "markdown",
   "id": "f29e3673",
   "metadata": {},
   "source": [
    "## Llama 3.1 405B"
   ]
  },
  {
   "cell_type": "code",
   "execution_count": null,
   "id": "f7bc1ce0",
   "metadata": {},
   "outputs": [],
   "source": [
    "from llama_index.llms.together import TogetherLLM"
   ]
  },
  {
   "cell_type": "code",
   "execution_count": null,
   "id": "1ba29fcd",
   "metadata": {},
   "outputs": [],
   "source": [
    "llm = TogetherLLM(model=\"meta-llama/Meta-Llama-3.1-405B-Instruct-Turbo\", api_key = os.getenv(\"TOGETHER_API_KEY\"), temperature=0)\n",
    "\n",
    "results = evaluate_questions(fragen, llm)\n",
    "\n",
    "df[\"llama3.1_405B\"] = results"
   ]
  },
  {
   "cell_type": "markdown",
   "id": "d8c3325a",
   "metadata": {},
   "source": [
    "## Mixtral"
   ]
  },
  {
   "cell_type": "code",
   "execution_count": null,
   "id": "bbcc2333",
   "metadata": {},
   "outputs": [],
   "source": [
    "llm = TogetherLLM(model=\"mistralai/Mixtral-8x22B-Instruct-v0.1\", api_key = os.getenv(\"TOGETHER_API_KEY\"), temperature=0)\n",
    "\n",
    "results = evaluate_questions(fragen, llm)\n",
    "\n",
    "df[\"mixtral\"] = results"
   ]
  },
  {
   "cell_type": "markdown",
   "id": "568d4625",
   "metadata": {},
   "source": [
    "## Claude 3.5 Sonnet"
   ]
  },
  {
   "cell_type": "code",
   "execution_count": null,
   "id": "ae631317",
   "metadata": {},
   "outputs": [],
   "source": [
    "from llama_index.llms.anthropic import Anthropic"
   ]
  },
  {
   "cell_type": "code",
   "execution_count": null,
   "id": "7e5211e0",
   "metadata": {},
   "outputs": [],
   "source": [
    "llm = Anthropic(model=\"claude-3-5-sonnet-20240620\", temperature=0)\n",
    "\n",
    "results = evaluate_questions(fragen, llm)\n",
    "\n",
    "df[\"claude_3_5_sonnet\"] = results"
   ]
  },
  {
   "cell_type": "code",
   "execution_count": null,
   "id": "d8d6f741",
   "metadata": {},
   "outputs": [],
   "source": [
    "df.to_csv(\"xxx\", index=True)"
   ]
  }
 ],
 "metadata": {
  "kernelspec": {
   "display_name": "leitlinien_rag_2_0-juoIhNGw",
   "language": "python",
   "name": "python3"
  },
  "language_info": {
   "codemirror_mode": {
    "name": "ipython",
    "version": 3
   },
   "file_extension": ".py",
   "mimetype": "text/x-python",
   "name": "python",
   "nbconvert_exporter": "python",
   "pygments_lexer": "ipython3",
   "version": "3.12.7"
  }
 },
 "nbformat": 4,
 "nbformat_minor": 5
}
